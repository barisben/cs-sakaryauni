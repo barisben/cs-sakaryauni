{
  "nbformat": 4,
  "nbformat_minor": 0,
  "metadata": {
    "kernelspec": {
      "display_name": "Python (whatever you want to call it)",
      "language": "python",
      "name": "envname"
    },
    "language_info": {
      "codemirror_mode": {
        "name": "ipython",
        "version": 3
      },
      "file_extension": ".py",
      "mimetype": "text/x-python",
      "name": "python",
      "nbconvert_exporter": "python",
      "pygments_lexer": "ipython3",
      "version": "3.6.6"
    },
    "colab": {
      "name": "cifar100_cnn_keras.ipynb",
      "provenance": [],
      "collapsed_sections": []
    },
    "accelerator": "GPU"
  },
  "cells": [
    {
      "cell_type": "code",
      "metadata": {
        "id": "6fi_pE91aHU9"
      },
      "source": [
        "import os\n",
        "import numpy as np\n",
        "import pickle\n",
        "import h5py\n",
        "#import pandas as pd\n",
        "\n",
        "from __future__ import print_function\n",
        "import keras\n",
        "from keras.datasets import cifar100\n",
        "from keras.applications import ResNet50\n",
        "from keras.preprocessing.image import ImageDataGenerator\n",
        "from keras.models import Sequential\n",
        "from keras.layers import Dense, Dropout, Activation, Flatten, Conv2D, MaxPooling2D, BatchNormalization, GlobalAveragePooling2D\n",
        "\n"
      ],
      "execution_count": 1,
      "outputs": []
    },
    {
      "cell_type": "code",
      "metadata": {
        "colab": {
          "base_uri": "https://localhost:8080/"
        },
        "id": "MBS23DjhaHU-",
        "outputId": "08f44299-9957-4707-da27-faf6c5da4865"
      },
      "source": [
        "classes = 100\n",
        "current_path = os.path.join(os.getcwd(), 'current_model')\n",
        "#print(current_path)\n",
        "#model_name = 'cifar100.h5'\n",
        "(x_train, y_train) , (x_test, y_test) = cifar100.load_data()\n",
        "print('x_train_dims : ' , x_train.shape)\n",
        "print('x_test_dims : ', x_test.shape)\n",
        "print('y_train_dims : ', y_train.shape)\n",
        "print('y_test_dims : ', y_test.shape)\n",
        "\n",
        "print( 'number of training examples available : ', x_train.shape[0])\n",
        "print('number of testing examples available : ', x_test.shape[0])\n",
        "\n",
        "y_train = keras.utils.to_categorical(y_train, classes)\n",
        "y_test = keras.utils.to_categorical(y_test, classes)\n",
        "\n",
        "x_train = x_train.astype('float32')\n",
        "x_test = x_test.astype('float32')\n",
        "\n",
        "x_train /= 255.0\n",
        "x_test /= 255.0"
      ],
      "execution_count": 2,
      "outputs": [
        {
          "output_type": "stream",
          "text": [
            "Downloading data from https://www.cs.toronto.edu/~kriz/cifar-100-python.tar.gz\n",
            "169009152/169001437 [==============================] - 4s 0us/step\n",
            "x_train_dims :  (50000, 32, 32, 3)\n",
            "x_test_dims :  (10000, 32, 32, 3)\n",
            "y_train_dims :  (50000, 1)\n",
            "y_test_dims :  (10000, 1)\n",
            "number of training examples available :  50000\n",
            "number of testing examples available :  10000\n"
          ],
          "name": "stdout"
        }
      ]
    },
    {
      "cell_type": "code",
      "metadata": {
        "id": "DSuPV6baaHVA"
      },
      "source": [
        "model = Sequential()\n",
        "# layer one\n",
        "model.add(Conv2D(128,(3,3), kernel_initializer='he_uniform', padding = 'same', input_shape = x_train.shape[1:]))\n",
        "model.add(Activation('relu'))\n",
        "model.add(BatchNormalization())\n",
        "model.add(Conv2D(128, (3,3), kernel_initializer='he_uniform', padding = 'same'))\n",
        "model.add(Activation('relu'))\n",
        "model.add(BatchNormalization())\n",
        "model.add(MaxPooling2D(pool_size=(2,2)))\n",
        "model.add(Dropout(0.2))\n",
        "\n",
        "#layer two\n",
        "model.add(Conv2D(256, (3,3), kernel_initializer='he_uniform', padding = 'same'))\n",
        "model.add(Activation('relu'))\n",
        "model.add(BatchNormalization())\n",
        "model.add(Conv2D(256, (3,3), kernel_initializer='he_uniform', padding = 'same'))\n",
        "model.add(Activation('relu'))\n",
        "model.add(BatchNormalization())\n",
        "model.add(MaxPooling2D(pool_size=(2,2)))\n",
        "model.add(Dropout(0.3))\n",
        "\n",
        "#layer three\n",
        "model.add(Conv2D(512, (3,3), kernel_initializer='he_uniform', padding = 'same'))\n",
        "model.add(Activation('relu'))\n",
        "model.add(BatchNormalization())\n",
        "model.add(Conv2D(512, (3,3), kernel_initializer='he_uniform', padding = 'same'))\n",
        "model.add(Activation('relu'))\n",
        "model.add(BatchNormalization())\n",
        "model.add(MaxPooling2D(pool_size=(2,2)))\n",
        "model.add(Dropout(0.4))\n",
        "\n",
        "model.add(Flatten())\n",
        "model.add(Dense(1024, kernel_initializer='he_uniform'))\n",
        "model.add(Activation('relu'))\n",
        "model.add(BatchNormalization())\n",
        "model.add(Dropout(0.5))\n",
        "model.add(Dense(classes))\n",
        "model.add(Activation(\"softmax\"))\n",
        "\n",
        "adam=keras.optimizers.Adam(lr=.001, beta_1=0.9, beta_2=0.999, epsilon=None, decay=0.0, amsgrad=False)\n",
        "model.compile(loss = 'categorical_crossentropy', optimizer=adam, metrics = ['accuracy'])\n"
      ],
      "execution_count": 3,
      "outputs": []
    },
    {
      "cell_type": "markdown",
      "metadata": {
        "id": "JT3v03gYP3sy"
      },
      "source": [
        "DATA AUGMENTATION"
      ]
    },
    {
      "cell_type": "code",
      "metadata": {
        "id": "dUcaiPivjPcP"
      },
      "source": [
        "batch_size = 64\n",
        "datagen = ImageDataGenerator(width_shift_range=0.1, height_shift_range=0.1, horizontal_flip=True)\n",
        "it_train = datagen.flow(x_train, y_train, batch_size=batch_size)\n",
        "steps = int(x_train.shape[0] / batch_size)"
      ],
      "execution_count": 4,
      "outputs": []
    },
    {
      "cell_type": "code",
      "metadata": {
        "colab": {
          "base_uri": "https://localhost:8080/"
        },
        "id": "fMY5rV92aHVB",
        "outputId": "de0f8c79-d660-46af-e071-40cc9cb64e22"
      },
      "source": [
        "epochs = 10\n",
        "\n",
        "model.fit(it_train, steps_per_epoch=steps, epochs = epochs)"
      ],
      "execution_count": 5,
      "outputs": [
        {
          "output_type": "stream",
          "text": [
            "Epoch 1/10\n",
            "781/781 [==============================] - 67s 42ms/step - loss: 4.5927 - accuracy: 0.0858\n",
            "Epoch 2/10\n",
            "781/781 [==============================] - 33s 42ms/step - loss: 3.3490 - accuracy: 0.2257\n",
            "Epoch 3/10\n",
            "781/781 [==============================] - 33s 42ms/step - loss: 2.6858 - accuracy: 0.3327\n",
            "Epoch 4/10\n",
            "781/781 [==============================] - 32s 41ms/step - loss: 2.3066 - accuracy: 0.3954\n",
            "Epoch 5/10\n",
            "781/781 [==============================] - 32s 41ms/step - loss: 2.0264 - accuracy: 0.4569\n",
            "Epoch 6/10\n",
            "781/781 [==============================] - 32s 41ms/step - loss: 1.8449 - accuracy: 0.4992\n",
            "Epoch 7/10\n",
            "781/781 [==============================] - 32s 41ms/step - loss: 1.7070 - accuracy: 0.5251\n",
            "Epoch 8/10\n",
            "781/781 [==============================] - 32s 41ms/step - loss: 1.5847 - accuracy: 0.5553\n",
            "Epoch 9/10\n",
            "781/781 [==============================] - 32s 41ms/step - loss: 1.4795 - accuracy: 0.5859\n",
            "Epoch 10/10\n",
            "781/781 [==============================] - 33s 42ms/step - loss: 1.3904 - accuracy: 0.6021\n"
          ],
          "name": "stdout"
        },
        {
          "output_type": "execute_result",
          "data": {
            "text/plain": [
              "<tensorflow.python.keras.callbacks.History at 0x7f4601893b50>"
            ]
          },
          "metadata": {
            "tags": []
          },
          "execution_count": 5
        }
      ]
    },
    {
      "cell_type": "code",
      "metadata": {
        "colab": {
          "base_uri": "https://localhost:8080/"
        },
        "id": "KR1CUbYMZ5wO",
        "outputId": "edb69bc8-6ff0-458f-9bda-b6cb8aaaf811"
      },
      "source": [
        "test_loss, test_acc = model.evaluate(x_test,  y_test)\n",
        "print(test_acc)"
      ],
      "execution_count": 6,
      "outputs": [
        {
          "output_type": "stream",
          "text": [
            "313/313 [==============================] - 3s 8ms/step - loss: 1.4591 - accuracy: 0.5927\n",
            "0.5927000045776367\n"
          ],
          "name": "stdout"
        }
      ]
    },
    {
      "cell_type": "markdown",
      "metadata": {
        "id": "_ctN4vC_sdig"
      },
      "source": [
        "**RESNET**"
      ]
    },
    {
      "cell_type": "code",
      "metadata": {
        "id": "OxXdbIg0pjki",
        "colab": {
          "base_uri": "https://localhost:8080/"
        },
        "outputId": "1ca3b4e4-b1b7-4d3d-c9fa-f3070ef0415f"
      },
      "source": [
        "tlEpochs=40\n",
        "res_net = ResNet50(weights='imagenet', include_top=False, input_shape=x_train.shape[1:], classes=y_train.shape[1])\n",
        "res_net.trainable = False\n",
        "global_average_layer = GlobalAveragePooling2D()\n",
        "output_layer = Dense(units=classes, activation='softmax')\n",
        "tl_model = Sequential([\n",
        "  res_net,\n",
        "  global_average_layer,\n",
        "  output_layer\n",
        "])\n",
        "tl_model.compile(loss = 'categorical_crossentropy', optimizer=adam, metrics = ['accuracy'])\n",
        "tl_model.fit(it_train, steps_per_epoch=steps, epochs = tlEpochs)\n"
      ],
      "execution_count": 7,
      "outputs": [
        {
          "output_type": "stream",
          "text": [
            "Downloading data from https://storage.googleapis.com/tensorflow/keras-applications/resnet/resnet50_weights_tf_dim_ordering_tf_kernels_notop.h5\n",
            "94773248/94765736 [==============================] - 1s 0us/step\n",
            "Epoch 1/40\n",
            "781/781 [==============================] - 30s 34ms/step - loss: 5.0259 - accuracy: 0.0252\n",
            "Epoch 2/40\n",
            "781/781 [==============================] - 26s 33ms/step - loss: 4.4013 - accuracy: 0.0522\n",
            "Epoch 3/40\n",
            "781/781 [==============================] - 26s 33ms/step - loss: 4.3133 - accuracy: 0.0647\n",
            "Epoch 4/40\n",
            "781/781 [==============================] - 26s 34ms/step - loss: 4.2605 - accuracy: 0.0726\n",
            "Epoch 5/40\n",
            "781/781 [==============================] - 26s 33ms/step - loss: 4.2263 - accuracy: 0.0741\n",
            "Epoch 6/40\n",
            "781/781 [==============================] - 26s 33ms/step - loss: 4.1755 - accuracy: 0.0819\n",
            "Epoch 7/40\n",
            "781/781 [==============================] - 26s 33ms/step - loss: 4.1826 - accuracy: 0.0801\n",
            "Epoch 8/40\n",
            "781/781 [==============================] - 26s 34ms/step - loss: 4.1488 - accuracy: 0.0849\n",
            "Epoch 9/40\n",
            "781/781 [==============================] - 26s 33ms/step - loss: 4.1192 - accuracy: 0.0886\n",
            "Epoch 10/40\n",
            "781/781 [==============================] - 26s 34ms/step - loss: 4.1127 - accuracy: 0.0912\n",
            "Epoch 11/40\n",
            "781/781 [==============================] - 26s 34ms/step - loss: 4.0960 - accuracy: 0.0925\n",
            "Epoch 12/40\n",
            "781/781 [==============================] - 26s 33ms/step - loss: 4.0804 - accuracy: 0.0953\n",
            "Epoch 13/40\n",
            "781/781 [==============================] - 26s 33ms/step - loss: 4.0775 - accuracy: 0.0948\n",
            "Epoch 14/40\n",
            "781/781 [==============================] - 26s 33ms/step - loss: 4.0604 - accuracy: 0.0983\n",
            "Epoch 15/40\n",
            "781/781 [==============================] - 26s 34ms/step - loss: 4.0491 - accuracy: 0.0997\n",
            "Epoch 16/40\n",
            "781/781 [==============================] - 27s 34ms/step - loss: 4.0325 - accuracy: 0.1043\n",
            "Epoch 17/40\n",
            "781/781 [==============================] - 27s 34ms/step - loss: 4.0213 - accuracy: 0.1063\n",
            "Epoch 18/40\n",
            "781/781 [==============================] - 26s 33ms/step - loss: 4.0121 - accuracy: 0.1060\n",
            "Epoch 19/40\n",
            "781/781 [==============================] - 26s 33ms/step - loss: 4.0120 - accuracy: 0.1052\n",
            "Epoch 20/40\n",
            "781/781 [==============================] - 27s 34ms/step - loss: 4.0071 - accuracy: 0.1063\n",
            "Epoch 21/40\n",
            "781/781 [==============================] - 26s 34ms/step - loss: 3.9890 - accuracy: 0.1103\n",
            "Epoch 22/40\n",
            "781/781 [==============================] - 26s 34ms/step - loss: 3.9848 - accuracy: 0.1108\n",
            "Epoch 23/40\n",
            "781/781 [==============================] - 26s 34ms/step - loss: 3.9702 - accuracy: 0.1143\n",
            "Epoch 24/40\n",
            "781/781 [==============================] - 28s 35ms/step - loss: 3.9665 - accuracy: 0.1113\n",
            "Epoch 25/40\n",
            "781/781 [==============================] - 28s 36ms/step - loss: 3.9704 - accuracy: 0.1095\n",
            "Epoch 26/40\n",
            "781/781 [==============================] - 28s 36ms/step - loss: 3.9603 - accuracy: 0.1141\n",
            "Epoch 27/40\n",
            "781/781 [==============================] - 28s 36ms/step - loss: 3.9474 - accuracy: 0.1166\n",
            "Epoch 28/40\n",
            "781/781 [==============================] - 28s 36ms/step - loss: 3.9347 - accuracy: 0.1195\n",
            "Epoch 29/40\n",
            "781/781 [==============================] - 28s 35ms/step - loss: 3.9341 - accuracy: 0.1187\n",
            "Epoch 30/40\n",
            "781/781 [==============================] - 28s 36ms/step - loss: 3.9344 - accuracy: 0.1163\n",
            "Epoch 31/40\n",
            "781/781 [==============================] - 28s 36ms/step - loss: 3.9262 - accuracy: 0.1211\n",
            "Epoch 32/40\n",
            "781/781 [==============================] - 28s 36ms/step - loss: 3.9172 - accuracy: 0.1255\n",
            "Epoch 33/40\n",
            "781/781 [==============================] - 28s 35ms/step - loss: 3.9169 - accuracy: 0.1211\n",
            "Epoch 34/40\n",
            "781/781 [==============================] - 27s 35ms/step - loss: 3.9169 - accuracy: 0.1231\n",
            "Epoch 35/40\n",
            "781/781 [==============================] - 27s 34ms/step - loss: 3.8989 - accuracy: 0.1231\n",
            "Epoch 36/40\n",
            "781/781 [==============================] - 26s 34ms/step - loss: 3.8993 - accuracy: 0.1272\n",
            "Epoch 37/40\n",
            "781/781 [==============================] - 27s 34ms/step - loss: 3.8921 - accuracy: 0.1255\n",
            "Epoch 38/40\n",
            "781/781 [==============================] - 27s 34ms/step - loss: 3.8925 - accuracy: 0.1243\n",
            "Epoch 39/40\n",
            "781/781 [==============================] - 27s 34ms/step - loss: 3.8874 - accuracy: 0.1263\n",
            "Epoch 40/40\n",
            "781/781 [==============================] - 27s 34ms/step - loss: 3.8899 - accuracy: 0.1262\n"
          ],
          "name": "stdout"
        },
        {
          "output_type": "execute_result",
          "data": {
            "text/plain": [
              "<tensorflow.python.keras.callbacks.History at 0x7f45aee05490>"
            ]
          },
          "metadata": {
            "tags": []
          },
          "execution_count": 7
        }
      ]
    },
    {
      "cell_type": "code",
      "metadata": {
        "colab": {
          "base_uri": "https://localhost:8080/"
        },
        "id": "7JXKhtD0qCuZ",
        "outputId": "27160fd5-b5c7-416c-e75e-1ee0620ee676"
      },
      "source": [
        "restest_loss, restest_acc = tl_model.evaluate(x_test,  y_test)\n",
        "print(restest_acc)"
      ],
      "execution_count": 8,
      "outputs": [
        {
          "output_type": "stream",
          "text": [
            "313/313 [==============================] - 5s 13ms/step - loss: 3.8827 - accuracy: 0.1381\n",
            "0.13809999823570251\n"
          ],
          "name": "stdout"
        }
      ]
    }
  ]
}