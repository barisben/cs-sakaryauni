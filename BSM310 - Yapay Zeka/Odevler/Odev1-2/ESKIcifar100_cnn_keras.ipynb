{
 "cells": [
  {
   "cell_type": "code",
   "execution_count": 1,
   "metadata": {},
   "outputs": [
    {
     "name": "stderr",
     "output_type": "stream",
     "text": [
      "Using TensorFlow backend.\n"
     ]
    }
   ],
   "source": [
    "import os\n",
    "import numpy as np\n",
    "import pickle\n",
    "import h5py\n",
    "#import pandas as pd\n",
    "\n",
    "from __future__ import print_function\n",
    "import keras\n",
    "from keras.datasets import cifar100\n",
    "from keras.preprocessing.image import ImageDataGenerator\n",
    "from keras.models import Sequential\n",
    "from keras.layers import Dense, Dropout, Activation, Flatten\n",
    "from keras.layers import Conv2D, MaxPooling2D\n",
    "\n"
   ]
  },
  {
   "cell_type": "code",
   "execution_count": 2,
   "metadata": {},
   "outputs": [
    {
     "name": "stdout",
     "output_type": "stream",
     "text": [
      "x_train_dims :  (50000, 32, 32, 3)\n",
      "x_test_dims :  (10000, 32, 32, 3)\n",
      "y_train_dims :  (50000, 1)\n",
      "y_test_dims :  (10000, 1)\n",
      "number of training examples available :  50000\n",
      "number of testing examples available :  10000\n"
     ]
    }
   ],
   "source": [
    "classes = 100\n",
    "current_path = os.path.join(os.getcwd(), 'current_model')\n",
    "#print(current_path)\n",
    "#model_name = 'cifar100.h5'\n",
    "(x_train, y_train) , (x_test, y_test) = cifar100.load_data()\n",
    "print('x_train_dims : ' , x_train.shape)\n",
    "print('x_test_dims : ', x_test.shape)\n",
    "print('y_train_dims : ', y_train.shape)\n",
    "print('y_test_dims : ', y_test.shape)\n",
    "\n",
    "print( 'number of training examples available : ', x_train.shape[0])\n",
    "print('number of testing examples available : ', x_test.shape[0])\n",
    "\n",
    "y_train = keras.utils.to_categorical(y_train, classes)\n",
    "y_test = keras.utils.to_categorical(y_test, classes)\n",
    "\n",
    "x_train = x_train.astype('float32')\n",
    "x_test = x_test.astype('float32')\n",
    "\n",
    "x_train /= 255.0\n",
    "x_test /= 255.0"
   ]
  },
  {
   "cell_type": "code",
   "execution_count": 3,
   "metadata": {},
   "outputs": [],
   "source": [
    "model = Sequential()\n",
    "# layer one\n",
    "model.add(Conv2D(128,(3,3), padding = 'same', input_shape = x_train.shape[1:]))\n",
    "model.add(Activation('elu'))\n",
    "model.add(Conv2D(128, (3,3)))\n",
    "model.add(Activation('elu'))\n",
    "model.add(MaxPooling2D(pool_size=(2,2)))\n",
    "model.add(Dropout(0.25))\n",
    "\n",
    "#layer two\n",
    "model.add(Conv2D(256, (3, 3), padding='same'))\n",
    "model.add(Activation('elu'))\n",
    "model.add(Conv2D(256, (3, 3)))\n",
    "model.add(Activation('elu'))\n",
    "model.add(MaxPooling2D(pool_size=(2, 2)))\n",
    "model.add(Dropout(0.25))\n",
    "\n",
    "#layer three\n",
    "model.add(Conv2D(512, (3, 3), padding='same'))\n",
    "model.add(Activation('elu'))\n",
    "model.add(Conv2D(512, (3, 3)))\n",
    "model.add(Activation('elu'))\n",
    "model.add(MaxPooling2D(pool_size=(2, 2)))\n",
    "model.add(Dropout(0.25))\n",
    "\n",
    "\n",
    "model.add(Flatten())\n",
    "model.add(Dense(1024))\n",
    "model.add(Activation('elu'))\n",
    "model.add(Dropout(0.5))\n",
    "model.add(Dense(classes))\n",
    "model.add(Activation(\"softmax\"))\n",
    "\n",
    "\n",
    "opt = keras.optimizers.rmsprop(lr=0.0001, decay = 1e-6)\n",
    "\n",
    "model.compile(loss = 'categorical_crossentropy', optimizer=opt, metrics = ['accuracy'])\n",
    "\n",
    "\n"
   ]
  },
  {
   "cell_type": "code",
   "execution_count": null,
   "metadata": {},
   "outputs": [],
   "source": [
    "epochs = 120\n",
    "data_augmentation = False\n",
    "predictions = 20\n",
    "batch_size = 64\n",
    "validation = []\n",
    "\n",
    "for i in  range(epochs):\n",
    "    if not data_augmentation:\n",
    "        print(\"************We are not using Data Augmentation************\")\n",
    "        model.fit(x_train, y_train, batch_size= batch_size, epochs = epochs, validation_data = (x_test, y_test), shuffle = True)\n",
    "    else:\n",
    "        print(\"*************Show something else here **********\")\n",
    "        \n",
    "pickle.dump(validation, open(\"loss_validation.p\",'wb'))"
   ]
  }
 ],
 "metadata": {
  "kernelspec": {
   "display_name": "Python (whatever you want to call it)",
   "language": "python",
   "name": "envname"
  },
  "language_info": {
   "codemirror_mode": {
    "name": "ipython",
    "version": 3
   },
   "file_extension": ".py",
   "mimetype": "text/x-python",
   "name": "python",
   "nbconvert_exporter": "python",
   "pygments_lexer": "ipython3",
   "version": "3.6.6"
  }
 },
 "nbformat": 4,
 "nbformat_minor": 2
}
